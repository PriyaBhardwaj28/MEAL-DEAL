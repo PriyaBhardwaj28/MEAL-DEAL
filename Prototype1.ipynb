{
 "cells": [
  {
   "cell_type": "markdown",
   "metadata": {},
   "source": [
    "### Import Libraries"
   ]
  },
  {
   "cell_type": "code",
   "execution_count": 248,
   "metadata": {},
   "outputs": [],
   "source": [
    "import ipywidgets as widgets\n",
    "from IPython.display import display\n",
    "import matplotlib.pyplot as plt\n",
    "import uuid\n",
    "import json\n",
    "import os"
   ]
  },
  {
   "cell_type": "markdown",
   "metadata": {},
   "source": [
    "### Function to Get User Input"
   ]
  },
  {
   "cell_type": "code",
   "execution_count": 249,
   "metadata": {},
   "outputs": [],
   "source": [
    "# Define a temporary file to store nutrition information\n",
    "temp_file = \"nutrition_info.json\"\n",
    "\n",
    "# Function to get user input using widgets\n",
    "def get_user_input():\n",
    "    user_id = str(uuid.uuid4())  # Automatically generate a unique user ID\n",
    "    user_name = widgets.Text(description='Name:')\n",
    "    age = widgets.IntText(description='Age:', value=0)\n",
    "    gender = widgets.Dropdown(\n",
    "        options=['Male', 'Female', 'Other'],\n",
    "        description='Gender:'\n",
    "    )\n",
    "    height = widgets.FloatText(description='Height (cm):', value=0.0)\n",
    "    weight = widgets.FloatText(description='Weight (kg):', value=0.0)\n",
    "    physical_activity = widgets.Dropdown(\n",
    "        options=['Sedentary', 'Light', 'Moderate', 'Active', 'Very Active'],\n",
    "        description='Physical Activity:'\n",
    "    )\n",
    "    occupation = widgets.Text(description='Occupation:')\n",
    "    fitness_goal = widgets.FloatText(description='Fitness Goal (g):', value=0.0)\n",
    "    \n",
    "    display(user_name, age, gender, height, weight, physical_activity, occupation, fitness_goal)\n",
    "    \n",
    "    return user_id, user_name, age, gender, height, weight, physical_activity, occupation, fitness_goal\n"
   ]
  },
  {
   "cell_type": "markdown",
   "metadata": {},
   "source": [
    "#### Function to Calculate Nutrition"
   ]
  },
  {
   "cell_type": "code",
   "execution_count": 250,
   "metadata": {},
   "outputs": [],
   "source": [
    "# Function to calculate nutrition\n",
    "def calculate_nutrition(age, gender, height, weight, physical_activity):\n",
    "    # Calculate BMR\n",
    "    if gender == 'Male':\n",
    "        bmr = 88.362 + (13.397 * weight) + (4.799 * height) - (5.677 * age)\n",
    "    else:\n",
    "        bmr = 447.593 + (9.247 * weight) + (3.098 * height) - (4.330 * age)\n",
    "\n",
    "    # Activity factor\n",
    "    activity_factors = {\n",
    "        'Sedentary': 1.2,\n",
    "        'Light': 1.375,\n",
    "        'Moderate': 1.55,\n",
    "        'Active': 1.725,\n",
    "        'Very Active': 1.9\n",
    "    }\n",
    "    tdee = bmr * activity_factors[physical_activity]\n",
    "\n",
    "    # Macronutrient distribution\n",
    "    protein_calories = tdee * 0.25\n",
    "    fat_calories = tdee * 0.30\n",
    "    carb_calories = tdee * 0.45\n",
    "\n",
    "    protein_grams = round(protein_calories / 4, 2)\n",
    "    fat_grams = round(fat_calories / 9, 2)\n",
    "    carb_grams = round(carb_calories / 4, 2)\n",
    "\n",
    "    # Sodium and sugar\n",
    "    sodium_mg = 2300  # Recommended daily intake\n",
    "    sugar_grams = 36 if gender == 'Male' else 25  # Recommended daily intake based on gender\n",
    "\n",
    "    return {\n",
    "        'Calories (kcal)': round(tdee, 2),\n",
    "        'Fats (g)': fat_grams,\n",
    "        'Proteins (g)': protein_grams,\n",
    "        'Carbs (g)': carb_grams,\n",
    "        'Sodium (g)': round(sodium_mg / 1000, 2),  # Convert mg to grams\n",
    "        'Sugar (g)': sugar_grams\n",
    "    }\n"
   ]
  },
  {
   "cell_type": "markdown",
   "metadata": {},
   "source": [
    "#### Function to Plot Nutrition Information"
   ]
  },
  {
   "cell_type": "code",
   "execution_count": 251,
   "metadata": {},
   "outputs": [],
   "source": [
    "# Function to plot nutrition information\n",
    "def plot_nutrition(nutrition_info):\n",
    "    labels = ['Fats (g)', 'Proteins (g)', 'Carbs (g)']\n",
    "    values = [nutrition_info['Fats (g)'], nutrition_info['Proteins (g)'], nutrition_info['Carbs (g)']]\n",
    "    colors = ['#ff9999','#66b3ff','#99ff99']\n",
    "\n",
    "    fig, ax = plt.subplots()\n",
    "    ax.pie(values, labels=labels, autopct='%1.1f%%', startangle=90, colors=colors)\n",
    "    ax.axis('equal')  # Equal aspect ratio ensures that pie is drawn as a circle.\n",
    "    plt.title('Macronutrient Distribution')\n",
    "    plt.show()\n"
   ]
  },
  {
   "cell_type": "markdown",
   "metadata": {},
   "source": [
    "#### Function to Load Nutrition Information from the JSON File"
   ]
  },
  {
   "cell_type": "code",
   "execution_count": 252,
   "metadata": {},
   "outputs": [],
   "source": [
    "# Function to load nutrition information from the JSON file\n",
    "def load_nutrition_info():\n",
    "    if os.path.exists(temp_file):\n",
    "        with open(temp_file, 'r') as f:\n",
    "            return json.load(f)\n",
    "    else:\n",
    "        print(\"No nutrition information found.\")\n",
    "        return None\n"
   ]
  },
  {
   "cell_type": "markdown",
   "metadata": {},
   "source": [
    "### Display User Input and Calculate Nutrition"
   ]
  },
  {
   "cell_type": "code",
   "execution_count": 253,
   "metadata": {},
   "outputs": [
    {
     "data": {
      "application/vnd.jupyter.widget-view+json": {
       "model_id": "f89142a08e4545bfbd24806bdbae36c5",
       "version_major": 2,
       "version_minor": 0
      },
      "text/plain": [
       "Text(value='', description='Name:')"
      ]
     },
     "metadata": {},
     "output_type": "display_data"
    },
    {
     "data": {
      "application/vnd.jupyter.widget-view+json": {
       "model_id": "5fb0062b618b4428b8963ad85aae9b1a",
       "version_major": 2,
       "version_minor": 0
      },
      "text/plain": [
       "IntText(value=0, description='Age:')"
      ]
     },
     "metadata": {},
     "output_type": "display_data"
    },
    {
     "data": {
      "application/vnd.jupyter.widget-view+json": {
       "model_id": "bf8a7f90b291439aa9e41c76aff2ff79",
       "version_major": 2,
       "version_minor": 0
      },
      "text/plain": [
       "Dropdown(description='Gender:', options=('Male', 'Female', 'Other'), value='Male')"
      ]
     },
     "metadata": {},
     "output_type": "display_data"
    },
    {
     "data": {
      "application/vnd.jupyter.widget-view+json": {
       "model_id": "ed9ae4d87d2e4309b64184e7bddff8cd",
       "version_major": 2,
       "version_minor": 0
      },
      "text/plain": [
       "FloatText(value=0.0, description='Height (cm):')"
      ]
     },
     "metadata": {},
     "output_type": "display_data"
    },
    {
     "data": {
      "application/vnd.jupyter.widget-view+json": {
       "model_id": "e1a2f433f43747f3b5b1506a6d09be80",
       "version_major": 2,
       "version_minor": 0
      },
      "text/plain": [
       "FloatText(value=0.0, description='Weight (kg):')"
      ]
     },
     "metadata": {},
     "output_type": "display_data"
    },
    {
     "data": {
      "application/vnd.jupyter.widget-view+json": {
       "model_id": "b4bc4f55ffe24b42b8303ccfb53840a7",
       "version_major": 2,
       "version_minor": 0
      },
      "text/plain": [
       "Dropdown(description='Physical Activity:', options=('Sedentary', 'Light', 'Moderate', 'Active', 'Very Active')…"
      ]
     },
     "metadata": {},
     "output_type": "display_data"
    },
    {
     "data": {
      "application/vnd.jupyter.widget-view+json": {
       "model_id": "f7499015d8804d0da4b3515451a6d1e2",
       "version_major": 2,
       "version_minor": 0
      },
      "text/plain": [
       "Text(value='', description='Occupation:')"
      ]
     },
     "metadata": {},
     "output_type": "display_data"
    },
    {
     "data": {
      "application/vnd.jupyter.widget-view+json": {
       "model_id": "e23fd13fb01849a89787d41028a1ee8e",
       "version_major": 2,
       "version_minor": 0
      },
      "text/plain": [
       "FloatText(value=0.0, description='Fitness Goal (g):')"
      ]
     },
     "metadata": {},
     "output_type": "display_data"
    },
    {
     "data": {
      "application/vnd.jupyter.widget-view+json": {
       "model_id": "b2728b7c9545448eb1f8de791c614368",
       "version_major": 2,
       "version_minor": 0
      },
      "text/plain": [
       "Button(description='Submit', style=ButtonStyle())"
      ]
     },
     "metadata": {},
     "output_type": "display_data"
    }
   ],
   "source": [
    "# Function to collect and display user input and calculate nutrition\n",
    "def main():\n",
    "    user_id, user_name, age, gender, height, weight, physical_activity, occupation, fitness_goal = get_user_input()\n",
    "    \n",
    "    def on_button_clicked(b):\n",
    "        nutrition_info = calculate_nutrition(age.value, gender.value, height.value, weight.value, physical_activity.value)\n",
    "        print(\"\\nUser Data:\")\n",
    "        print(f\"User ID: {user_id}\")\n",
    "        print(f\"Name: {user_name.value}\")\n",
    "        print(f\"Age: {age.value}\")\n",
    "        print(f\"Gender: {gender.value}\")\n",
    "        print(f\"Height: {height.value} cm\")\n",
    "        print(f\"Weight: {weight.value} kg\")\n",
    "        print(f\"Physical Activity: {physical_activity.value}\")\n",
    "        print(f\"Occupation: {occupation.value}\")\n",
    "        print(f\"Fitness Goal: {fitness_goal.value} grams\")\n",
    "        \n",
    "        print(\"\\nNutrition Information:\")\n",
    "        for key, value in nutrition_info.items():\n",
    "            print(f\"{key}: {value}\")\n",
    "        \n",
    "        plot_nutrition(nutrition_info)\n",
    "        save_nutrition_info(nutrition_info)  # Save the nutrition info to a file\n",
    "\n",
    "    button = widgets.Button(description=\"Submit\")\n",
    "    button.on_click(on_button_clicked)\n",
    "    display(button)\n",
    "\n",
    "if __name__ == \"__main__\":\n",
    "    main()\n"
   ]
  },
  {
   "cell_type": "markdown",
   "metadata": {},
   "source": [
    "### Fetching User Data"
   ]
  },
  {
   "cell_type": "code",
   "execution_count": 254,
   "metadata": {},
   "outputs": [
    {
     "name": "stdout",
     "output_type": "stream",
     "text": [
      "{'Calories (kcal)': 1616.99, 'Fats (g)': 53.9, 'Proteins (g)': 101.06, 'Carbs (g)': 181.91, 'Sodium (g)': 2.3, 'Sugar (g)': 36}\n"
     ]
    }
   ],
   "source": [
    "import json\n",
    "\n",
    "# Define the path to your JSON file\n",
    "file_path = 'nutrition_info.json'\n",
    "\n",
    "# Open and read the JSON file\n",
    "with open(file_path, 'r') as file:\n",
    "    User_info_data = json.load(file)\n",
    "\n",
    "# Display the User_info_data\n",
    "print(User_info_data)\n"
   ]
  },
  {
   "cell_type": "markdown",
   "metadata": {},
   "source": [
    "### Finding out Daily nutritional needs"
   ]
  },
  {
   "cell_type": "code",
   "execution_count": 255,
   "metadata": {},
   "outputs": [
    {
     "name": "stdout",
     "output_type": "stream",
     "text": [
      "Daily Nutrition Needs: {'Calories (kcal)': 1616.99, 'Fats (g)': 53.9, 'Proteins (g)': 101.06, 'Carbs (g)': 181.91, 'Sodium (g)': 2.3, 'Sugar (g)': 36}\n",
      "Nutrition per Meal (3 meals): {'Calories (kcal)': 539.0, 'Fats (g)': 17.97, 'Proteins (g)': 33.69, 'Carbs (g)': 60.64, 'Sodium (g)': 0.77, 'Sugar (g)': 12.0}\n"
     ]
    }
   ],
   "source": [
    "# Number of meals\n",
    "num_meals = 3\n",
    "\n",
    "# Calculate nutrition per meal\n",
    "nutrition_per_meal = {key: round(value / num_meals, 2) for key, value in User_info_data.items()}\n",
    "\n",
    "# Print the results\n",
    "print(f\"Daily Nutrition Needs: {User_info_data}\")\n",
    "print(f\"Nutrition per Meal ({num_meals} meals): {nutrition_per_meal}\")\n"
   ]
  },
  {
   "cell_type": "markdown",
   "metadata": {},
   "source": [
    "### Converting Nurtition value in Required Fromat"
   ]
  },
  {
   "cell_type": "code",
   "execution_count": 256,
   "metadata": {},
   "outputs": [],
   "source": [
    "# Define the order of keys\n",
    "order = [\n",
    "    'Calories (kcal)',\n",
    "    'Fats (g)',\n",
    "    'Proteins (g)',\n",
    "    'Carbs (g)',\n",
    "    'Sodium (g)',\n",
    "    'Sugar (g)'\n",
    "]\n",
    "\n",
    "# Convert dictionary to list based on the order\n",
    "nutrition_list = [round(nutrition_per_meal[key]) for key in order]"
   ]
  },
  {
   "cell_type": "markdown",
   "metadata": {},
   "source": [
    "### Recommendation Model"
   ]
  },
  {
   "cell_type": "code",
   "execution_count": 257,
   "metadata": {},
   "outputs": [
    {
     "name": "stderr",
     "output_type": "stream",
     "text": [
      "C:\\Users\\goel6\\AppData\\Roaming\\Python\\Python312\\site-packages\\sklearn\\base.py:493: UserWarning: X does not have valid feature names, but StandardScaler was fitted with feature names\n",
      "  warnings.warn(\n"
     ]
    }
   ],
   "source": [
    "import pandas as pd\n",
    "from sklearn.model_selection import train_test_split\n",
    "from sklearn.preprocessing import StandardScaler\n",
    "from sklearn.neighbors import NearestNeighbors\n",
    "\n",
    "# Load the dataset\n",
    "df = pd.read_csv('subset_file.csv')\n",
    "\n",
    "# Features and target\n",
    "features = ['Calories', 'Fats', 'Proteins', 'Carbs', 'Sodium', 'Sugar']\n",
    "meals = df[['id', 'name']]  # Assuming you have 'id' and 'name' for each meal\n",
    "\n",
    "# Prepare feature matrix and target\n",
    "X = df[features]\n",
    "meal_ids = df['id']\n",
    "\n",
    "# Split the data into training and testing sets (optional for this type of model)\n",
    "X_train, X_test, meal_ids_train, meal_ids_test = train_test_split(X, meal_ids, test_size=0.2, random_state=42)\n",
    "\n",
    "# Standardize features\n",
    "scaler = StandardScaler()\n",
    "X_train = scaler.fit_transform(X_train)\n",
    "X_test = scaler.transform(X_test)\n",
    "\n",
    "# Initialize and train the Nearest Neighbors model\n",
    "model = NearestNeighbors(n_neighbors=4)\n",
    "model.fit(X_train)\n",
    "\n",
    "# Function to recommend top 5 meals based on nutritional inputs\n",
    "def recommend_top_meals(nutrition_input):\n",
    "    # Standardize the input\n",
    "    nutrition_input = scaler.transform([nutrition_input])\n",
    "    \n",
    "    # Find the nearest neighbors\n",
    "    distances, indices = model.kneighbors(nutrition_input)\n",
    "    \n",
    "    # Get the recommended meal IDs\n",
    "    recommended_indices = indices[0]\n",
    "    recommended_meals = df.iloc[recommended_indices][['name','ingredients','steps','description','minutes']]\n",
    "    \n",
    "    return recommended_meals\n",
    "\n",
    "\n",
    "recommended_meals = recommend_top_meals(nutrition_list)\n"
   ]
  },
  {
   "cell_type": "markdown",
   "metadata": {},
   "source": [
    "### Recommended Meals"
   ]
  },
  {
   "cell_type": "code",
   "execution_count": 258,
   "metadata": {},
   "outputs": [
    {
     "data": {
      "application/vnd.jupyter.widget-view+json": {
       "model_id": "19dea9422b7f48e1bfdb8aa6f1ca2d8e",
       "version_major": 2,
       "version_minor": 0
      },
      "text/plain": [
       "VBox(children=(HTML(value='<strong>Meal name:</strong> 14 day pickles'), HTML(value='<strong>Time to prepare f…"
      ]
     },
     "metadata": {},
     "output_type": "display_data"
    },
    {
     "name": "stdout",
     "output_type": "stream",
     "text": [
      "\n",
      "========================================\n",
      "\n"
     ]
    },
    {
     "data": {
      "application/vnd.jupyter.widget-view+json": {
       "model_id": "2d1ba7cd55b8450ca7d32281fade4beb",
       "version_major": 2,
       "version_minor": 0
      },
      "text/plain": [
       "VBox(children=(HTML(value='<strong>Meal name:</strong> 5 minute spaghetti sauce'), HTML(value='<strong>Time to…"
      ]
     },
     "metadata": {},
     "output_type": "display_data"
    },
    {
     "name": "stdout",
     "output_type": "stream",
     "text": [
      "\n",
      "========================================\n",
      "\n"
     ]
    },
    {
     "data": {
      "application/vnd.jupyter.widget-view+json": {
       "model_id": "cb1b8a88b3a645da9da6c43a80a6f5da",
       "version_major": 2,
       "version_minor": 0
      },
      "text/plain": [
       "VBox(children=(HTML(value='<strong>Meal name:</strong> 2 layer baked ziti'), HTML(value='<strong>Time to prepa…"
      ]
     },
     "metadata": {},
     "output_type": "display_data"
    },
    {
     "name": "stdout",
     "output_type": "stream",
     "text": [
      "\n",
      "========================================\n",
      "\n"
     ]
    },
    {
     "data": {
      "application/vnd.jupyter.widget-view+json": {
       "model_id": "415e0dbc19e341ab8bc499a317b2dbc3",
       "version_major": 2,
       "version_minor": 0
      },
      "text/plain": [
       "VBox(children=(HTML(value='<strong>Meal name:</strong> i am tired of living   cocktail'), HTML(value='<strong>…"
      ]
     },
     "metadata": {},
     "output_type": "display_data"
    },
    {
     "name": "stdout",
     "output_type": "stream",
     "text": [
      "\n",
      "========================================\n",
      "\n"
     ]
    }
   ],
   "source": [
    "\n",
    "def display_meal_info(df):\n",
    "    for index, meal in df.iterrows():\n",
    "        # Create a container for each meal\n",
    "        meal_container = widgets.VBox()\n",
    "        \n",
    "        # Add meal name\n",
    "        name_widget = widgets.HTML(value=f\"<strong>Meal name:</strong> {meal['name']}\")\n",
    "        meal_container.children += (name_widget,)\n",
    "        \n",
    "        # Add cooking time\n",
    "        time_widget = widgets.HTML(value=f\"<strong>Time to prepare food:</strong> {meal['minutes']} minutes\")\n",
    "        meal_container.children += (time_widget,)\n",
    "        \n",
    "        # Add description\n",
    "        desc_widget = widgets.HTML(value=f\"<strong>Description:</strong> {meal['description']}\")\n",
    "        meal_container.children += (desc_widget,)\n",
    "        \n",
    "        # Add ingredients with bullets\n",
    "        ingredients_list = [item.strip() for item in meal['ingredients'].split(',')]\n",
    "        ingredients_html = '<ul>' + ''.join(f'<li>{ingredient}</li>' for ingredient in ingredients_list) + '</ul>'\n",
    "        ingredients_widget = widgets.HTML(value=f\"<strong>Ingredients:</strong>{ingredients_html}\")\n",
    "        meal_container.children += (ingredients_widget,)\n",
    "        \n",
    "        # Add steps with bullets\n",
    "        steps_list = [item.strip() for item in meal['steps'].split(',')]\n",
    "        steps_html = '<ol>' + ''.join(f'<li>{step}</li>' for step in steps_list) + '</ol>'\n",
    "        steps_widget = widgets.HTML(value=f\"<strong>Steps:</strong>{steps_html}\")\n",
    "        meal_container.children += (steps_widget,)\n",
    "        \n",
    "        # Display the meal container\n",
    "        display(meal_container)\n",
    "        print(\"\\n\" + \"=\"*40 + \"\\n\")\n",
    "\n",
    "# Call the function to display meals\n",
    "display_meal_info(recommended_meals)\n"
   ]
  }
 ],
 "metadata": {
  "kernelspec": {
   "display_name": "Python 3",
   "language": "python",
   "name": "python3"
  },
  "language_info": {
   "codemirror_mode": {
    "name": "ipython",
    "version": 3
   },
   "file_extension": ".py",
   "mimetype": "text/x-python",
   "name": "python",
   "nbconvert_exporter": "python",
   "pygments_lexer": "ipython3",
   "version": "3.12.3"
  }
 },
 "nbformat": 4,
 "nbformat_minor": 2
}
